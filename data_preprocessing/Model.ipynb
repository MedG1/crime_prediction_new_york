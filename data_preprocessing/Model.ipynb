{
 "cells": [
  {
   "cell_type": "markdown",
   "id": "12d5fe1e",
   "metadata": {},
   "source": [
    "# 1. Import libraries"
   ]
  },
  {
   "cell_type": "code",
   "execution_count": 1,
   "id": "b5eba192",
   "metadata": {},
   "outputs": [],
   "source": [
    "# Import numpy, pandas, matpltlib.pyplot, sklearn modules and seaborn\n",
    "import numpy as np\n",
    "import pandas as pd\n",
    "import joblib\n",
    "import re\n",
    "import os\n",
    "from tqdm import tqdm\n",
    "import matplotlib.pyplot as plt\n",
    "import seaborn as sns\n",
    "\n",
    "\n",
    "# Import models\n",
    "from sklearn.ensemble import RandomForestClassifier\n",
    "import lightgbm as lgbm\n",
    "from xgboost import XGBClassifier\n",
    "from sklearn.svm import SVC\n",
    "from sklearn.neighbors import KNeighborsClassifier\n",
    "from sklearn.neural_network import MLPClassifier\n",
    "\n",
    "\n",
    "from sklearn.model_selection import train_test_split\n",
    "from sklearn.model_selection import GridSearchCV, RandomizedSearchCV\n",
    "from sklearn.feature_selection import SelectFromModel\n",
    "from sklearn.metrics import classification_report\n",
    "from sklearn.metrics import confusion_matrix\n",
    "from sklearn.metrics import precision_score, recall_score, accuracy_score, f1_score\n",
    "from sklearn.metrics import roc_curve, auc\n",
    "\n",
    "import scikitplot as skplt"
   ]
  },
  {
   "cell_type": "markdown",
   "id": "4bd170ea",
   "metadata": {},
   "source": [
    "# 2. Loading the Dataset"
   ]
  },
  {
   "cell_type": "code",
   "execution_count": 2,
   "id": "4f92cb05",
   "metadata": {},
   "outputs": [
    {
     "name": "stdout",
     "output_type": "stream",
     "text": [
      "<class 'pandas.core.frame.DataFrame'>\n",
      "RangeIndex: 6958307 entries, 0 to 6958306\n",
      "Data columns (total 16 columns):\n",
      " #   Column             Dtype  \n",
      "---  ------             -----  \n",
      " 0   ADDR_PCT_CD        float64\n",
      " 1   CRIME_CLASS        int64  \n",
      " 2   BORO_NM            int64  \n",
      " 3   IN_PARK            int64  \n",
      " 4   IN_PUBLIC_HOUSING  int64  \n",
      " 5   Latitude           float64\n",
      " 6   Longitude          float64\n",
      " 7   IN_STATION         int64  \n",
      " 8   VIC_AGE_GROUP      object \n",
      " 9   VIC_RACE           int64  \n",
      " 10  VIC_SEX            int64  \n",
      " 11  year               int64  \n",
      " 12  month              int64  \n",
      " 13  day                int64  \n",
      " 14  hour               int64  \n",
      " 15  weekday            object \n",
      "dtypes: float64(3), int64(11), object(2)\n",
      "memory usage: 849.4+ MB\n"
     ]
    }
   ],
   "source": [
    "df = pd.read_csv('./ny_ready_data.csv')\n",
    "df.info()"
   ]
  },
  {
   "cell_type": "code",
   "execution_count": 3,
   "id": "49c810ed",
   "metadata": {},
   "outputs": [
    {
     "data": {
      "text/html": [
       "<div>\n",
       "<style scoped>\n",
       "    .dataframe tbody tr th:only-of-type {\n",
       "        vertical-align: middle;\n",
       "    }\n",
       "\n",
       "    .dataframe tbody tr th {\n",
       "        vertical-align: top;\n",
       "    }\n",
       "\n",
       "    .dataframe thead th {\n",
       "        text-align: right;\n",
       "    }\n",
       "</style>\n",
       "<table border=\"1\" class=\"dataframe\">\n",
       "  <thead>\n",
       "    <tr style=\"text-align: right;\">\n",
       "      <th></th>\n",
       "      <th>ADDR_PCT_CD</th>\n",
       "      <th>CRIME_CLASS</th>\n",
       "      <th>BORO_NM</th>\n",
       "      <th>IN_PARK</th>\n",
       "      <th>IN_PUBLIC_HOUSING</th>\n",
       "      <th>Latitude</th>\n",
       "      <th>Longitude</th>\n",
       "      <th>IN_STATION</th>\n",
       "      <th>VIC_AGE_GROUP</th>\n",
       "      <th>VIC_RACE</th>\n",
       "      <th>VIC_SEX</th>\n",
       "      <th>year</th>\n",
       "      <th>month</th>\n",
       "      <th>day</th>\n",
       "      <th>hour</th>\n",
       "      <th>weekday</th>\n",
       "    </tr>\n",
       "  </thead>\n",
       "  <tbody>\n",
       "    <tr>\n",
       "      <th>0</th>\n",
       "      <td>81.0</td>\n",
       "      <td>1</td>\n",
       "      <td>5</td>\n",
       "      <td>0</td>\n",
       "      <td>0</td>\n",
       "      <td>40.685041</td>\n",
       "      <td>-73.921777</td>\n",
       "      <td>0</td>\n",
       "      <td>25-44</td>\n",
       "      <td>7</td>\n",
       "      <td>4</td>\n",
       "      <td>2014</td>\n",
       "      <td>9</td>\n",
       "      <td>4</td>\n",
       "      <td>17</td>\n",
       "      <td>Thursday</td>\n",
       "    </tr>\n",
       "    <tr>\n",
       "      <th>1</th>\n",
       "      <td>121.0</td>\n",
       "      <td>2</td>\n",
       "      <td>4</td>\n",
       "      <td>0</td>\n",
       "      <td>0</td>\n",
       "      <td>40.636991</td>\n",
       "      <td>-74.134093</td>\n",
       "      <td>0</td>\n",
       "      <td>45-64</td>\n",
       "      <td>6</td>\n",
       "      <td>4</td>\n",
       "      <td>2016</td>\n",
       "      <td>10</td>\n",
       "      <td>12</td>\n",
       "      <td>7</td>\n",
       "      <td>Wednesday</td>\n",
       "    </tr>\n",
       "    <tr>\n",
       "      <th>2</th>\n",
       "      <td>41.0</td>\n",
       "      <td>2</td>\n",
       "      <td>3</td>\n",
       "      <td>0</td>\n",
       "      <td>0</td>\n",
       "      <td>40.823876</td>\n",
       "      <td>-73.891863</td>\n",
       "      <td>0</td>\n",
       "      <td>45-64</td>\n",
       "      <td>6</td>\n",
       "      <td>4</td>\n",
       "      <td>2012</td>\n",
       "      <td>9</td>\n",
       "      <td>28</td>\n",
       "      <td>13</td>\n",
       "      <td>Friday</td>\n",
       "    </tr>\n",
       "    <tr>\n",
       "      <th>3</th>\n",
       "      <td>46.0</td>\n",
       "      <td>1</td>\n",
       "      <td>3</td>\n",
       "      <td>0</td>\n",
       "      <td>0</td>\n",
       "      <td>40.845707</td>\n",
       "      <td>-73.910398</td>\n",
       "      <td>0</td>\n",
       "      <td>&lt;18</td>\n",
       "      <td>6</td>\n",
       "      <td>4</td>\n",
       "      <td>2015</td>\n",
       "      <td>3</td>\n",
       "      <td>24</td>\n",
       "      <td>15</td>\n",
       "      <td>Tuesday</td>\n",
       "    </tr>\n",
       "    <tr>\n",
       "      <th>4</th>\n",
       "      <td>109.0</td>\n",
       "      <td>1</td>\n",
       "      <td>2</td>\n",
       "      <td>0</td>\n",
       "      <td>0</td>\n",
       "      <td>40.763992</td>\n",
       "      <td>-73.828426</td>\n",
       "      <td>0</td>\n",
       "      <td>25-44</td>\n",
       "      <td>5</td>\n",
       "      <td>3</td>\n",
       "      <td>2017</td>\n",
       "      <td>5</td>\n",
       "      <td>20</td>\n",
       "      <td>4</td>\n",
       "      <td>Saturday</td>\n",
       "    </tr>\n",
       "  </tbody>\n",
       "</table>\n",
       "</div>"
      ],
      "text/plain": [
       "   ADDR_PCT_CD  CRIME_CLASS  BORO_NM  IN_PARK  IN_PUBLIC_HOUSING   Latitude  \\\n",
       "0         81.0            1        5        0                  0  40.685041   \n",
       "1        121.0            2        4        0                  0  40.636991   \n",
       "2         41.0            2        3        0                  0  40.823876   \n",
       "3         46.0            1        3        0                  0  40.845707   \n",
       "4        109.0            1        2        0                  0  40.763992   \n",
       "\n",
       "   Longitude  IN_STATION VIC_AGE_GROUP  VIC_RACE  VIC_SEX  year  month  day  \\\n",
       "0 -73.921777           0         25-44         7        4  2014      9    4   \n",
       "1 -74.134093           0         45-64         6        4  2016     10   12   \n",
       "2 -73.891863           0         45-64         6        4  2012      9   28   \n",
       "3 -73.910398           0           <18         6        4  2015      3   24   \n",
       "4 -73.828426           0         25-44         5        3  2017      5   20   \n",
       "\n",
       "   hour    weekday  \n",
       "0    17   Thursday  \n",
       "1     7  Wednesday  \n",
       "2    13     Friday  \n",
       "3    15    Tuesday  \n",
       "4     4   Saturday  "
      ]
     },
     "execution_count": 3,
     "metadata": {},
     "output_type": "execute_result"
    }
   ],
   "source": [
    "df.head()"
   ]
  },
  {
   "cell_type": "code",
   "execution_count": 4,
   "id": "380f1ebf",
   "metadata": {},
   "outputs": [
    {
     "data": {
      "text/plain": [
       "(6958307, 16)"
      ]
     },
     "execution_count": 4,
     "metadata": {},
     "output_type": "execute_result"
    }
   ],
   "source": [
    "df.shape"
   ]
  },
  {
   "cell_type": "code",
   "execution_count": 5,
   "id": "58e9e588",
   "metadata": {},
   "outputs": [
    {
     "data": {
      "text/plain": [
       "1    3925730\n",
       "2    2140495\n",
       "0     892082\n",
       "Name: CRIME_CLASS, dtype: int64"
      ]
     },
     "execution_count": 5,
     "metadata": {},
     "output_type": "execute_result"
    }
   ],
   "source": [
    "df.CRIME_CLASS.value_counts().sort_values(ascending=False)"
   ]
  },
  {
   "cell_type": "code",
   "execution_count": 6,
   "id": "cf32f0e0",
   "metadata": {},
   "outputs": [
    {
     "name": "stderr",
     "output_type": "stream",
     "text": [
      "C:\\Users\\rihab\\AppData\\Local\\Temp\\ipykernel_13864\\3520224190.py:1: FutureWarning: The default value of numeric_only in DataFrame.corr is deprecated. In a future version, it will default to False. Select only valid columns or specify the value of numeric_only to silence this warning.\n",
      "  corr = df.corr()\n"
     ]
    },
    {
     "data": {
      "image/png": "[encoded data removed]",
      "text/plain": [
       "<Figure size 1000x800 with 2 Axes>"
      ]
     },
     "metadata": {},
     "output_type": "display_data"
    }
   ],
   "source": [
    "corr = df.corr()\n",
    "plt.figure(figsize = (10,8))\n",
    "sns.heatmap(corr, linewidth = 1, linecolor = \"white\")\n",
    "plt.title(\"Correlation\")\n",
    "plt.show()"
   ]
  },
  {
   "cell_type": "code",
   "execution_count": 7,
   "id": "254eab01",
   "metadata": {},
   "outputs": [],
   "source": [
    "cols = ['ADDR_PCT_CD','BORO_NM']\n",
    "df = df.drop(cols, axis=1)"
   ]
  },
  {
   "cell_type": "markdown",
   "id": "177e835b",
   "metadata": {},
   "source": [
    "# 3. Data preparing"
   ]
  },
  {
   "cell_type": "markdown",
   "id": "56596344",
   "metadata": {},
   "source": [
    "## 3.1 Deal with categorical data"
   ]
  },
  {
   "cell_type": "code",
   "execution_count": 8,
   "id": "0314779e",
   "metadata": {},
   "outputs": [
    {
     "data": {
      "text/html": [
       "<div>\n",
       "<style scoped>\n",
       "    .dataframe tbody tr th:only-of-type {\n",
       "        vertical-align: middle;\n",
       "    }\n",
       "\n",
       "    .dataframe tbody tr th {\n",
       "        vertical-align: top;\n",
       "    }\n",
       "\n",
       "    .dataframe thead th {\n",
       "        text-align: right;\n",
       "    }\n",
       "</style>\n",
       "<table border=\"1\" class=\"dataframe\">\n",
       "  <thead>\n",
       "    <tr style=\"text-align: right;\">\n",
       "      <th></th>\n",
       "      <th>CRIME_CLASS</th>\n",
       "      <th>IN_PARK</th>\n",
       "      <th>IN_PUBLIC_HOUSING</th>\n",
       "      <th>Latitude</th>\n",
       "      <th>Longitude</th>\n",
       "      <th>IN_STATION</th>\n",
       "      <th>VIC_RACE</th>\n",
       "      <th>VIC_SEX</th>\n",
       "      <th>year</th>\n",
       "      <th>month</th>\n",
       "      <th>...</th>\n",
       "      <th>VIC_AGE_GROUP_65+</th>\n",
       "      <th>VIC_AGE_GROUP_&lt;18</th>\n",
       "      <th>VIC_AGE_GROUP_UNKNOWN</th>\n",
       "      <th>weekday_Friday</th>\n",
       "      <th>weekday_Monday</th>\n",
       "      <th>weekday_Saturday</th>\n",
       "      <th>weekday_Sunday</th>\n",
       "      <th>weekday_Thursday</th>\n",
       "      <th>weekday_Tuesday</th>\n",
       "      <th>weekday_Wednesday</th>\n",
       "    </tr>\n",
       "  </thead>\n",
       "  <tbody>\n",
       "    <tr>\n",
       "      <th>0</th>\n",
       "      <td>1</td>\n",
       "      <td>0</td>\n",
       "      <td>0</td>\n",
       "      <td>40.685041</td>\n",
       "      <td>-73.921777</td>\n",
       "      <td>0</td>\n",
       "      <td>7</td>\n",
       "      <td>4</td>\n",
       "      <td>2014</td>\n",
       "      <td>9</td>\n",
       "      <td>...</td>\n",
       "      <td>0</td>\n",
       "      <td>0</td>\n",
       "      <td>0</td>\n",
       "      <td>0</td>\n",
       "      <td>0</td>\n",
       "      <td>0</td>\n",
       "      <td>0</td>\n",
       "      <td>1</td>\n",
       "      <td>0</td>\n",
       "      <td>0</td>\n",
       "    </tr>\n",
       "    <tr>\n",
       "      <th>1</th>\n",
       "      <td>2</td>\n",
       "      <td>0</td>\n",
       "      <td>0</td>\n",
       "      <td>40.636991</td>\n",
       "      <td>-74.134093</td>\n",
       "      <td>0</td>\n",
       "      <td>6</td>\n",
       "      <td>4</td>\n",
       "      <td>2016</td>\n",
       "      <td>10</td>\n",
       "      <td>...</td>\n",
       "      <td>0</td>\n",
       "      <td>0</td>\n",
       "      <td>0</td>\n",
       "      <td>0</td>\n",
       "      <td>0</td>\n",
       "      <td>0</td>\n",
       "      <td>0</td>\n",
       "      <td>0</td>\n",
       "      <td>0</td>\n",
       "      <td>1</td>\n",
       "    </tr>\n",
       "    <tr>\n",
       "      <th>2</th>\n",
       "      <td>2</td>\n",
       "      <td>0</td>\n",
       "      <td>0</td>\n",
       "      <td>40.823876</td>\n",
       "      <td>-73.891863</td>\n",
       "      <td>0</td>\n",
       "      <td>6</td>\n",
       "      <td>4</td>\n",
       "      <td>2012</td>\n",
       "      <td>9</td>\n",
       "      <td>...</td>\n",
       "      <td>0</td>\n",
       "      <td>0</td>\n",
       "      <td>0</td>\n",
       "      <td>1</td>\n",
       "      <td>0</td>\n",
       "      <td>0</td>\n",
       "      <td>0</td>\n",
       "      <td>0</td>\n",
       "      <td>0</td>\n",
       "      <td>0</td>\n",
       "    </tr>\n",
       "    <tr>\n",
       "      <th>3</th>\n",
       "      <td>1</td>\n",
       "      <td>0</td>\n",
       "      <td>0</td>\n",
       "      <td>40.845707</td>\n",
       "      <td>-73.910398</td>\n",
       "      <td>0</td>\n",
       "      <td>6</td>\n",
       "      <td>4</td>\n",
       "      <td>2015</td>\n",
       "      <td>3</td>\n",
       "      <td>...</td>\n",
       "      <td>0</td>\n",
       "      <td>1</td>\n",
       "      <td>0</td>\n",
       "      <td>0</td>\n",
       "      <td>0</td>\n",
       "      <td>0</td>\n",
       "      <td>0</td>\n",
       "      <td>0</td>\n",
       "      <td>1</td>\n",
       "      <td>0</td>\n",
       "    </tr>\n",
       "    <tr>\n",
       "      <th>4</th>\n",
       "      <td>1</td>\n",
       "      <td>0</td>\n",
       "      <td>0</td>\n",
       "      <td>40.763992</td>\n",
       "      <td>-73.828426</td>\n",
       "      <td>0</td>\n",
       "      <td>5</td>\n",
       "      <td>3</td>\n",
       "      <td>2017</td>\n",
       "      <td>5</td>\n",
       "      <td>...</td>\n",
       "      <td>0</td>\n",
       "      <td>0</td>\n",
       "      <td>0</td>\n",
       "      <td>0</td>\n",
       "      <td>0</td>\n",
       "      <td>1</td>\n",
       "      <td>0</td>\n",
       "      <td>0</td>\n",
       "      <td>0</td>\n",
       "      <td>0</td>\n",
       "    </tr>\n",
       "  </tbody>\n",
       "</table>\n",
       "<p>5 rows × 25 columns</p>\n",
       "</div>"
      ],
      "text/plain": [
       "   CRIME_CLASS  IN_PARK  IN_PUBLIC_HOUSING   Latitude  Longitude  IN_STATION  \\\n",
       "0            1        0                  0  40.685041 -73.921777           0   \n",
       "1            2        0                  0  40.636991 -74.134093           0   \n",
       "2            2        0                  0  40.823876 -73.891863           0   \n",
       "3            1        0                  0  40.845707 -73.910398           0   \n",
       "4            1        0                  0  40.763992 -73.828426           0   \n",
       "\n",
       "   VIC_RACE  VIC_SEX  year  month  ...  VIC_AGE_GROUP_65+  VIC_AGE_GROUP_<18  \\\n",
       "0         7        4  2014      9  ...                  0                  0   \n",
       "1         6        4  2016     10  ...                  0                  0   \n",
       "2         6        4  2012      9  ...                  0                  0   \n",
       "3         6        4  2015      3  ...                  0                  1   \n",
       "4         5        3  2017      5  ...                  0                  0   \n",
       "\n",
       "   VIC_AGE_GROUP_UNKNOWN  weekday_Friday  weekday_Monday  weekday_Saturday  \\\n",
       "0                      0               0               0                 0   \n",
       "1                      0               0               0                 0   \n",
       "2                      0               1               0                 0   \n",
       "3                      0               0               0                 0   \n",
       "4                      0               0               0                 1   \n",
       "\n",
       "   weekday_Sunday  weekday_Thursday  weekday_Tuesday  weekday_Wednesday  \n",
       "0               0                 1                0                  0  \n",
       "1               0                 0                0                  1  \n",
       "2               0                 0                0                  0  \n",
       "3               0                 0                1                  0  \n",
       "4               0                 0                0                  0  \n",
       "\n",
       "[5 rows x 25 columns]"
      ]
     },
     "execution_count": 8,
     "metadata": {},
     "output_type": "execute_result"
    }
   ],
   "source": [
    "df_state_dummy = pd.get_dummies(df)\n",
    "\n",
    "df_state_dummy.head()"
   ]
  },
  {
   "cell_type": "code",
   "execution_count": 9,
   "id": "7b5a9cd1",
   "metadata": {},
   "outputs": [
    {
     "data": {
      "text/plain": [
       "(6958307, 25)"
      ]
     },
     "execution_count": 9,
     "metadata": {},
     "output_type": "execute_result"
    }
   ],
   "source": [
    "df_state_dummy.shape"
   ]
  },
  {
   "cell_type": "code",
   "execution_count": 10,
   "id": "2354a0f1",
   "metadata": {},
   "outputs": [],
   "source": [
    "df_state_dummy = df_state_dummy.rename({'VIC_AGE_GROUP_<18':'VIC_AGE_GROUP_-18'},axis = 1)"
   ]
  },
  {
   "cell_type": "code",
   "execution_count": 11,
   "id": "2c8489d5",
   "metadata": {},
   "outputs": [
    {
     "data": {
      "text/html": [
       "<div>\n",
       "<style scoped>\n",
       "    .dataframe tbody tr th:only-of-type {\n",
       "        vertical-align: middle;\n",
       "    }\n",
       "\n",
       "    .dataframe tbody tr th {\n",
       "        vertical-align: top;\n",
       "    }\n",
       "\n",
       "    .dataframe thead th {\n",
       "        text-align: right;\n",
       "    }\n",
       "</style>\n",
       "<table border=\"1\" class=\"dataframe\">\n",
       "  <thead>\n",
       "    <tr style=\"text-align: right;\">\n",
       "      <th></th>\n",
       "      <th>CRIME_CLASS</th>\n",
       "      <th>IN_PARK</th>\n",
       "      <th>IN_PUBLIC_HOUSING</th>\n",
       "      <th>Latitude</th>\n",
       "      <th>Longitude</th>\n",
       "      <th>IN_STATION</th>\n",
       "      <th>VIC_RACE</th>\n",
       "      <th>VIC_SEX</th>\n",
       "      <th>year</th>\n",
       "      <th>month</th>\n",
       "      <th>...</th>\n",
       "      <th>VIC_AGE_GROUP_65+</th>\n",
       "      <th>VIC_AGE_GROUP_-18</th>\n",
       "      <th>VIC_AGE_GROUP_UNKNOWN</th>\n",
       "      <th>weekday_Friday</th>\n",
       "      <th>weekday_Monday</th>\n",
       "      <th>weekday_Saturday</th>\n",
       "      <th>weekday_Sunday</th>\n",
       "      <th>weekday_Thursday</th>\n",
       "      <th>weekday_Tuesday</th>\n",
       "      <th>weekday_Wednesday</th>\n",
       "    </tr>\n",
       "  </thead>\n",
       "  <tbody>\n",
       "    <tr>\n",
       "      <th>0</th>\n",
       "      <td>1</td>\n",
       "      <td>0</td>\n",
       "      <td>0</td>\n",
       "      <td>40.685041</td>\n",
       "      <td>-73.921777</td>\n",
       "      <td>0</td>\n",
       "      <td>7</td>\n",
       "      <td>4</td>\n",
       "      <td>2014</td>\n",
       "      <td>9</td>\n",
       "      <td>...</td>\n",
       "      <td>0</td>\n",
       "      <td>0</td>\n",
       "      <td>0</td>\n",
       "      <td>0</td>\n",
       "      <td>0</td>\n",
       "      <td>0</td>\n",
       "      <td>0</td>\n",
       "      <td>1</td>\n",
       "      <td>0</td>\n",
       "      <td>0</td>\n",
       "    </tr>\n",
       "    <tr>\n",
       "      <th>1</th>\n",
       "      <td>2</td>\n",
       "      <td>0</td>\n",
       "      <td>0</td>\n",
       "      <td>40.636991</td>\n",
       "      <td>-74.134093</td>\n",
       "      <td>0</td>\n",
       "      <td>6</td>\n",
       "      <td>4</td>\n",
       "      <td>2016</td>\n",
       "      <td>10</td>\n",
       "      <td>...</td>\n",
       "      <td>0</td>\n",
       "      <td>0</td>\n",
       "      <td>0</td>\n",
       "      <td>0</td>\n",
       "      <td>0</td>\n",
       "      <td>0</td>\n",
       "      <td>0</td>\n",
       "      <td>0</td>\n",
       "      <td>0</td>\n",
       "      <td>1</td>\n",
       "    </tr>\n",
       "    <tr>\n",
       "      <th>2</th>\n",
       "      <td>2</td>\n",
       "      <td>0</td>\n",
       "      <td>0</td>\n",
       "      <td>40.823876</td>\n",
       "      <td>-73.891863</td>\n",
       "      <td>0</td>\n",
       "      <td>6</td>\n",
       "      <td>4</td>\n",
       "      <td>2012</td>\n",
       "      <td>9</td>\n",
       "      <td>...</td>\n",
       "      <td>0</td>\n",
       "      <td>0</td>\n",
       "      <td>0</td>\n",
       "      <td>1</td>\n",
       "      <td>0</td>\n",
       "      <td>0</td>\n",
       "      <td>0</td>\n",
       "      <td>0</td>\n",
       "      <td>0</td>\n",
       "      <td>0</td>\n",
       "    </tr>\n",
       "    <tr>\n",
       "      <th>3</th>\n",
       "      <td>1</td>\n",
       "      <td>0</td>\n",
       "      <td>0</td>\n",
       "      <td>40.845707</td>\n",
       "      <td>-73.910398</td>\n",
       "      <td>0</td>\n",
       "      <td>6</td>\n",
       "      <td>4</td>\n",
       "      <td>2015</td>\n",
       "      <td>3</td>\n",
       "      <td>...</td>\n",
       "      <td>0</td>\n",
       "      <td>1</td>\n",
       "      <td>0</td>\n",
       "      <td>0</td>\n",
       "      <td>0</td>\n",
       "      <td>0</td>\n",
       "      <td>0</td>\n",
       "      <td>0</td>\n",
       "      <td>1</td>\n",
       "      <td>0</td>\n",
       "    </tr>\n",
       "    <tr>\n",
       "      <th>4</th>\n",
       "      <td>1</td>\n",
       "      <td>0</td>\n",
       "      <td>0</td>\n",
       "      <td>40.763992</td>\n",
       "      <td>-73.828426</td>\n",
       "      <td>0</td>\n",
       "      <td>5</td>\n",
       "      <td>3</td>\n",
       "      <td>2017</td>\n",
       "      <td>5</td>\n",
       "      <td>...</td>\n",
       "      <td>0</td>\n",
       "      <td>0</td>\n",
       "      <td>0</td>\n",
       "      <td>0</td>\n",
       "      <td>0</td>\n",
       "      <td>1</td>\n",
       "      <td>0</td>\n",
       "      <td>0</td>\n",
       "      <td>0</td>\n",
       "      <td>0</td>\n",
       "    </tr>\n",
       "  </tbody>\n",
       "</table>\n",
       "<p>5 rows × 25 columns</p>\n",
       "</div>"
      ],
      "text/plain": [
       "   CRIME_CLASS  IN_PARK  IN_PUBLIC_HOUSING   Latitude  Longitude  IN_STATION  \\\n",
       "0            1        0                  0  40.685041 -73.921777           0   \n",
       "1            2        0                  0  40.636991 -74.134093           0   \n",
       "2            2        0                  0  40.823876 -73.891863           0   \n",
       "3            1        0                  0  40.845707 -73.910398           0   \n",
       "4            1        0                  0  40.763992 -73.828426           0   \n",
       "\n",
       "   VIC_RACE  VIC_SEX  year  month  ...  VIC_AGE_GROUP_65+  VIC_AGE_GROUP_-18  \\\n",
       "0         7        4  2014      9  ...                  0                  0   \n",
       "1         6        4  2016     10  ...                  0                  0   \n",
       "2         6        4  2012      9  ...                  0                  0   \n",
       "3         6        4  2015      3  ...                  0                  1   \n",
       "4         5        3  2017      5  ...                  0                  0   \n",
       "\n",
       "   VIC_AGE_GROUP_UNKNOWN  weekday_Friday  weekday_Monday  weekday_Saturday  \\\n",
       "0                      0               0               0                 0   \n",
       "1                      0               0               0                 0   \n",
       "2                      0               1               0                 0   \n",
       "3                      0               0               0                 0   \n",
       "4                      0               0               0                 1   \n",
       "\n",
       "   weekday_Sunday  weekday_Thursday  weekday_Tuesday  weekday_Wednesday  \n",
       "0               0                 1                0                  0  \n",
       "1               0                 0                0                  1  \n",
       "2               0                 0                0                  0  \n",
       "3               0                 0                1                  0  \n",
       "4               0                 0                0                  0  \n",
       "\n",
       "[5 rows x 25 columns]"
      ]
     },
     "execution_count": 11,
     "metadata": {},
     "output_type": "execute_result"
    }
   ],
   "source": [
    "df_state_dummy.head()"
   ]
  },
  {
   "cell_type": "markdown",
   "id": "a0dbba42",
   "metadata": {},
   "source": [
    "## 3.2 Spliting the data into train and test"
   ]
  },
  {
   "cell_type": "code",
   "execution_count": 12,
   "id": "54eaf3e0",
   "metadata": {},
   "outputs": [],
   "source": [
    "# Assign the data\n",
    "df=df_state_dummy\n",
    "\n",
    "# Set the target for the prediction\n",
    "target='CRIME_CLASS'\n",
    "\n",
    "# Create arrays for the features and the response variable\n",
    "\n",
    "# set X and y\n",
    "y = df[target]\n",
    "X = df.drop(target, axis=1)"
   ]
  },
  {
   "cell_type": "code",
   "execution_count": 13,
   "id": "c466d8fd",
   "metadata": {},
   "outputs": [
    {
     "data": {
      "text/plain": [
       "1    3925730\n",
       "2    2140495\n",
       "0     892082\n",
       "Name: CRIME_CLASS, dtype: int64"
      ]
     },
     "execution_count": 13,
     "metadata": {},
     "output_type": "execute_result"
    }
   ],
   "source": [
    "y.unique()\n",
    "y.value_counts()"
   ]
  },
  {
   "cell_type": "code",
   "execution_count": 14,
   "id": "74f3a5a4",
   "metadata": {},
   "outputs": [],
   "source": [
    "X_train, X_test, y_train, y_test = train_test_split(X, y, test_size=0.2,shuffle=True, random_state=21, stratify=y)"
   ]
  },
  {
   "cell_type": "code",
   "execution_count": 15,
   "id": "fb72776e",
   "metadata": {},
   "outputs": [
    {
     "data": {
      "text/html": [
       "<div>\n",
       "<style scoped>\n",
       "    .dataframe tbody tr th:only-of-type {\n",
       "        vertical-align: middle;\n",
       "    }\n",
       "\n",
       "    .dataframe tbody tr th {\n",
       "        vertical-align: top;\n",
       "    }\n",
       "\n",
       "    .dataframe thead th {\n",
       "        text-align: right;\n",
       "    }\n",
       "</style>\n",
       "<table border=\"1\" class=\"dataframe\">\n",
       "  <thead>\n",
       "    <tr style=\"text-align: right;\">\n",
       "      <th></th>\n",
       "      <th>IN_PARK</th>\n",
       "      <th>IN_PUBLIC_HOUSING</th>\n",
       "      <th>Latitude</th>\n",
       "      <th>Longitude</th>\n",
       "      <th>IN_STATION</th>\n",
       "      <th>VIC_RACE</th>\n",
       "      <th>VIC_SEX</th>\n",
       "      <th>year</th>\n",
       "      <th>month</th>\n",
       "      <th>day</th>\n",
       "      <th>...</th>\n",
       "      <th>VIC_AGE_GROUP_65+</th>\n",
       "      <th>VIC_AGE_GROUP_-18</th>\n",
       "      <th>VIC_AGE_GROUP_UNKNOWN</th>\n",
       "      <th>weekday_Friday</th>\n",
       "      <th>weekday_Monday</th>\n",
       "      <th>weekday_Saturday</th>\n",
       "      <th>weekday_Sunday</th>\n",
       "      <th>weekday_Thursday</th>\n",
       "      <th>weekday_Tuesday</th>\n",
       "      <th>weekday_Wednesday</th>\n",
       "    </tr>\n",
       "  </thead>\n",
       "  <tbody>\n",
       "    <tr>\n",
       "      <th>1163917</th>\n",
       "      <td>0</td>\n",
       "      <td>0</td>\n",
       "      <td>40.704336</td>\n",
       "      <td>-73.797706</td>\n",
       "      <td>0</td>\n",
       "      <td>0</td>\n",
       "      <td>3</td>\n",
       "      <td>2009</td>\n",
       "      <td>3</td>\n",
       "      <td>31</td>\n",
       "      <td>...</td>\n",
       "      <td>0</td>\n",
       "      <td>0</td>\n",
       "      <td>1</td>\n",
       "      <td>0</td>\n",
       "      <td>0</td>\n",
       "      <td>0</td>\n",
       "      <td>0</td>\n",
       "      <td>0</td>\n",
       "      <td>1</td>\n",
       "      <td>0</td>\n",
       "    </tr>\n",
       "    <tr>\n",
       "      <th>5447050</th>\n",
       "      <td>0</td>\n",
       "      <td>0</td>\n",
       "      <td>40.817356</td>\n",
       "      <td>-73.909331</td>\n",
       "      <td>0</td>\n",
       "      <td>3</td>\n",
       "      <td>4</td>\n",
       "      <td>2013</td>\n",
       "      <td>8</td>\n",
       "      <td>21</td>\n",
       "      <td>...</td>\n",
       "      <td>0</td>\n",
       "      <td>0</td>\n",
       "      <td>0</td>\n",
       "      <td>0</td>\n",
       "      <td>0</td>\n",
       "      <td>0</td>\n",
       "      <td>0</td>\n",
       "      <td>0</td>\n",
       "      <td>0</td>\n",
       "      <td>1</td>\n",
       "    </tr>\n",
       "    <tr>\n",
       "      <th>4522503</th>\n",
       "      <td>0</td>\n",
       "      <td>0</td>\n",
       "      <td>40.810058</td>\n",
       "      <td>-73.925145</td>\n",
       "      <td>0</td>\n",
       "      <td>0</td>\n",
       "      <td>1</td>\n",
       "      <td>2006</td>\n",
       "      <td>2</td>\n",
       "      <td>24</td>\n",
       "      <td>...</td>\n",
       "      <td>0</td>\n",
       "      <td>0</td>\n",
       "      <td>1</td>\n",
       "      <td>1</td>\n",
       "      <td>0</td>\n",
       "      <td>0</td>\n",
       "      <td>0</td>\n",
       "      <td>0</td>\n",
       "      <td>0</td>\n",
       "      <td>0</td>\n",
       "    </tr>\n",
       "    <tr>\n",
       "      <th>2071449</th>\n",
       "      <td>0</td>\n",
       "      <td>0</td>\n",
       "      <td>40.868467</td>\n",
       "      <td>-73.821583</td>\n",
       "      <td>0</td>\n",
       "      <td>0</td>\n",
       "      <td>1</td>\n",
       "      <td>2007</td>\n",
       "      <td>3</td>\n",
       "      <td>15</td>\n",
       "      <td>...</td>\n",
       "      <td>0</td>\n",
       "      <td>0</td>\n",
       "      <td>1</td>\n",
       "      <td>0</td>\n",
       "      <td>0</td>\n",
       "      <td>0</td>\n",
       "      <td>0</td>\n",
       "      <td>1</td>\n",
       "      <td>0</td>\n",
       "      <td>0</td>\n",
       "    </tr>\n",
       "    <tr>\n",
       "      <th>3037874</th>\n",
       "      <td>0</td>\n",
       "      <td>0</td>\n",
       "      <td>40.620771</td>\n",
       "      <td>-73.999782</td>\n",
       "      <td>0</td>\n",
       "      <td>7</td>\n",
       "      <td>4</td>\n",
       "      <td>2011</td>\n",
       "      <td>7</td>\n",
       "      <td>20</td>\n",
       "      <td>...</td>\n",
       "      <td>0</td>\n",
       "      <td>0</td>\n",
       "      <td>0</td>\n",
       "      <td>0</td>\n",
       "      <td>0</td>\n",
       "      <td>0</td>\n",
       "      <td>0</td>\n",
       "      <td>0</td>\n",
       "      <td>0</td>\n",
       "      <td>1</td>\n",
       "    </tr>\n",
       "    <tr>\n",
       "      <th>...</th>\n",
       "      <td>...</td>\n",
       "      <td>...</td>\n",
       "      <td>...</td>\n",
       "      <td>...</td>\n",
       "      <td>...</td>\n",
       "      <td>...</td>\n",
       "      <td>...</td>\n",
       "      <td>...</td>\n",
       "      <td>...</td>\n",
       "      <td>...</td>\n",
       "      <td>...</td>\n",
       "      <td>...</td>\n",
       "      <td>...</td>\n",
       "      <td>...</td>\n",
       "      <td>...</td>\n",
       "      <td>...</td>\n",
       "      <td>...</td>\n",
       "      <td>...</td>\n",
       "      <td>...</td>\n",
       "      <td>...</td>\n",
       "      <td>...</td>\n",
       "    </tr>\n",
       "    <tr>\n",
       "      <th>3177345</th>\n",
       "      <td>0</td>\n",
       "      <td>0</td>\n",
       "      <td>40.767767</td>\n",
       "      <td>-73.993265</td>\n",
       "      <td>0</td>\n",
       "      <td>0</td>\n",
       "      <td>1</td>\n",
       "      <td>2008</td>\n",
       "      <td>2</td>\n",
       "      <td>20</td>\n",
       "      <td>...</td>\n",
       "      <td>0</td>\n",
       "      <td>0</td>\n",
       "      <td>1</td>\n",
       "      <td>0</td>\n",
       "      <td>0</td>\n",
       "      <td>0</td>\n",
       "      <td>0</td>\n",
       "      <td>0</td>\n",
       "      <td>0</td>\n",
       "      <td>1</td>\n",
       "    </tr>\n",
       "    <tr>\n",
       "      <th>4331816</th>\n",
       "      <td>0</td>\n",
       "      <td>0</td>\n",
       "      <td>40.741769</td>\n",
       "      <td>-73.906178</td>\n",
       "      <td>0</td>\n",
       "      <td>0</td>\n",
       "      <td>1</td>\n",
       "      <td>2019</td>\n",
       "      <td>8</td>\n",
       "      <td>6</td>\n",
       "      <td>...</td>\n",
       "      <td>0</td>\n",
       "      <td>0</td>\n",
       "      <td>1</td>\n",
       "      <td>0</td>\n",
       "      <td>0</td>\n",
       "      <td>0</td>\n",
       "      <td>0</td>\n",
       "      <td>0</td>\n",
       "      <td>1</td>\n",
       "      <td>0</td>\n",
       "    </tr>\n",
       "    <tr>\n",
       "      <th>3711919</th>\n",
       "      <td>0</td>\n",
       "      <td>0</td>\n",
       "      <td>40.669485</td>\n",
       "      <td>-73.986051</td>\n",
       "      <td>0</td>\n",
       "      <td>7</td>\n",
       "      <td>4</td>\n",
       "      <td>2018</td>\n",
       "      <td>4</td>\n",
       "      <td>24</td>\n",
       "      <td>...</td>\n",
       "      <td>0</td>\n",
       "      <td>0</td>\n",
       "      <td>0</td>\n",
       "      <td>0</td>\n",
       "      <td>0</td>\n",
       "      <td>0</td>\n",
       "      <td>0</td>\n",
       "      <td>0</td>\n",
       "      <td>1</td>\n",
       "      <td>0</td>\n",
       "    </tr>\n",
       "    <tr>\n",
       "      <th>4566218</th>\n",
       "      <td>0</td>\n",
       "      <td>0</td>\n",
       "      <td>40.718452</td>\n",
       "      <td>-73.998753</td>\n",
       "      <td>0</td>\n",
       "      <td>0</td>\n",
       "      <td>1</td>\n",
       "      <td>2015</td>\n",
       "      <td>5</td>\n",
       "      <td>15</td>\n",
       "      <td>...</td>\n",
       "      <td>0</td>\n",
       "      <td>0</td>\n",
       "      <td>1</td>\n",
       "      <td>1</td>\n",
       "      <td>0</td>\n",
       "      <td>0</td>\n",
       "      <td>0</td>\n",
       "      <td>0</td>\n",
       "      <td>0</td>\n",
       "      <td>0</td>\n",
       "    </tr>\n",
       "    <tr>\n",
       "      <th>6738304</th>\n",
       "      <td>0</td>\n",
       "      <td>0</td>\n",
       "      <td>40.775778</td>\n",
       "      <td>-73.848044</td>\n",
       "      <td>0</td>\n",
       "      <td>4</td>\n",
       "      <td>3</td>\n",
       "      <td>2014</td>\n",
       "      <td>9</td>\n",
       "      <td>29</td>\n",
       "      <td>...</td>\n",
       "      <td>0</td>\n",
       "      <td>0</td>\n",
       "      <td>0</td>\n",
       "      <td>0</td>\n",
       "      <td>1</td>\n",
       "      <td>0</td>\n",
       "      <td>0</td>\n",
       "      <td>0</td>\n",
       "      <td>0</td>\n",
       "      <td>0</td>\n",
       "    </tr>\n",
       "  </tbody>\n",
       "</table>\n",
       "<p>5566645 rows × 24 columns</p>\n",
       "</div>"
      ],
      "text/plain": [
       "         IN_PARK  IN_PUBLIC_HOUSING   Latitude  Longitude  IN_STATION  \\\n",
       "1163917        0                  0  40.704336 -73.797706           0   \n",
       "5447050        0                  0  40.817356 -73.909331           0   \n",
       "4522503        0                  0  40.810058 -73.925145           0   \n",
       "2071449        0                  0  40.868467 -73.821583           0   \n",
       "3037874        0                  0  40.620771 -73.999782           0   \n",
       "...          ...                ...        ...        ...         ...   \n",
       "3177345        0                  0  40.767767 -73.993265           0   \n",
       "4331816        0                  0  40.741769 -73.906178           0   \n",
       "3711919        0                  0  40.669485 -73.986051           0   \n",
       "4566218        0                  0  40.718452 -73.998753           0   \n",
       "6738304        0                  0  40.775778 -73.848044           0   \n",
       "\n",
       "         VIC_RACE  VIC_SEX  year  month  day  ...  VIC_AGE_GROUP_65+  \\\n",
       "1163917         0        3  2009      3   31  ...                  0   \n",
       "5447050         3        4  2013      8   21  ...                  0   \n",
       "4522503         0        1  2006      2   24  ...                  0   \n",
       "2071449         0        1  2007      3   15  ...                  0   \n",
       "3037874         7        4  2011      7   20  ...                  0   \n",
       "...           ...      ...   ...    ...  ...  ...                ...   \n",
       "3177345         0        1  2008      2   20  ...                  0   \n",
       "4331816         0        1  2019      8    6  ...                  0   \n",
       "3711919         7        4  2018      4   24  ...                  0   \n",
       "4566218         0        1  2015      5   15  ...                  0   \n",
       "6738304         4        3  2014      9   29  ...                  0   \n",
       "\n",
       "         VIC_AGE_GROUP_-18  VIC_AGE_GROUP_UNKNOWN  weekday_Friday  \\\n",
       "1163917                  0                      1               0   \n",
       "5447050                  0                      0               0   \n",
       "4522503                  0                      1               1   \n",
       "2071449                  0                      1               0   \n",
       "3037874                  0                      0               0   \n",
       "...                    ...                    ...             ...   \n",
       "3177345                  0                      1               0   \n",
       "4331816                  0                      1               0   \n",
       "3711919                  0                      0               0   \n",
       "4566218                  0                      1               1   \n",
       "6738304                  0                      0               0   \n",
       "\n",
       "         weekday_Monday  weekday_Saturday  weekday_Sunday  weekday_Thursday  \\\n",
       "1163917               0                 0               0                 0   \n",
       "5447050               0                 0               0                 0   \n",
       "4522503               0                 0               0                 0   \n",
       "2071449               0                 0               0                 1   \n",
       "3037874               0                 0               0                 0   \n",
       "...                 ...               ...             ...               ...   \n",
       "3177345               0                 0               0                 0   \n",
       "4331816               0                 0               0                 0   \n",
       "3711919               0                 0               0                 0   \n",
       "4566218               0                 0               0                 0   \n",
       "6738304               1                 0               0                 0   \n",
       "\n",
       "         weekday_Tuesday  weekday_Wednesday  \n",
       "1163917                1                  0  \n",
       "5447050                0                  1  \n",
       "4522503                0                  0  \n",
       "2071449                0                  0  \n",
       "3037874                0                  1  \n",
       "...                  ...                ...  \n",
       "3177345                0                  1  \n",
       "4331816                1                  0  \n",
       "3711919                1                  0  \n",
       "4566218                0                  0  \n",
       "6738304                0                  0  \n",
       "\n",
       "[5566645 rows x 24 columns]"
      ]
     },
     "execution_count": 15,
     "metadata": {},
     "output_type": "execute_result"
    }
   ],
   "source": [
    "X_train"
   ]
  },
  {
   "cell_type": "markdown",
   "id": "d2d422b4",
   "metadata": {},
   "source": [
    "# 4. Utils"
   ]
  },
  {
   "cell_type": "code",
   "execution_count": 16,
   "id": "9ae37412",
   "metadata": {},
   "outputs": [],
   "source": [
    "def report(y_test, y_pred, model):\n",
    "    ac_sc = accuracy_score(y_test, y_pred)\n",
    "    rc_sc = recall_score(y_test, y_pred ,average=\"weighted\")\n",
    "    pr_sc = precision_score(y_test, y_pred ,average=\"weighted\")\n",
    "    f1_sc = f1_score(y_test, y_pred, average='micro')\n",
    "\n",
    "    print((\"========== {} Results ==========\").format(model))\n",
    "    print(\"accuracy_score: {:.4f}.\".format( ac_sc))\n",
    "    print(\"Recall: {:.4f}.\".format(rc_sc))\n",
    "    print(\"Precision: {:.4f}.\".format(pr_sc))\n",
    "    print(\"F1 Score: {:.4f}.\".format(f1_sc))"
   ]
  },
  {
   "cell_type": "code",
   "execution_count": 17,
   "id": "411f47c5",
   "metadata": {},
   "outputs": [],
   "source": [
    "def plot_cm(y_pred,y_test,model,figure_name):\n",
    "    mat_RF = confusion_matrix(y_pred,y_test)\n",
    "    plt.figure(figsize=(8,4))\n",
    "    sns.heatmap(mat_RF, square=True, annot=True, fmt='d', cbar=False,xticklabels=[0,1,2],yticklabels=[0,1,2],cmap = \"coolwarm\")\n",
    "    plt.xlabel('True labels')\n",
    "    plt.ylabel('predicted labels')\n",
    "    plt.title(model)\n",
    "    plt.savefig(figure_name)"
   ]
  },
  {
   "cell_type": "code",
   "execution_count": 18,
   "id": "62945624",
   "metadata": {},
   "outputs": [],
   "source": [
    "def save_model(model, model_name,is_tree=False):\n",
    "    joblib.dump(model.estimators_[0] if is_tree else model,f'{model_name}.joblib')\n",
    "    print(f\"Model size: {np.round(os.path.getsize(f'{model_name}.joblib') / 1024 / 1024, 2) } MB\")"
   ]
  },
  {
   "cell_type": "markdown",
   "id": "f5e56cac",
   "metadata": {},
   "source": [
    "# 5. Modeling"
   ]
  },
  {
   "cell_type": "markdown",
   "id": "29a3c044",
   "metadata": {},
   "source": [
    "## 5.1 Random forest"
   ]
  },
  {
   "cell_type": "code",
   "execution_count": 19,
   "id": "5b7ac631",
   "metadata": {},
   "outputs": [
    {
     "name": "stderr",
     "output_type": "stream",
     "text": [
      "[Parallel(n_jobs=-1)]: Using backend ThreadingBackend with 8 concurrent workers.\n",
      "[Parallel(n_jobs=-1)]: Done  34 tasks      | elapsed:  3.7min\n",
      "[Parallel(n_jobs=-1)]: Done 100 out of 100 | elapsed:  9.8min finished\n",
      "[Parallel(n_jobs=8)]: Using backend ThreadingBackend with 8 concurrent workers.\n",
      "[Parallel(n_jobs=8)]: Done  34 tasks      | elapsed:  1.4min\n",
      "[Parallel(n_jobs=8)]: Done 100 out of 100 | elapsed:  4.0min finished\n"
     ]
    }
   ],
   "source": [
    "#Create a Gaussian Classifier\n",
    "clf=RandomForestClassifier(n_estimators=100,n_jobs=-1,verbose=1)\n",
    "\n",
    "#Train the model using the training sets\n",
    "clf.fit(X_train,y_train)\n",
    "y_pred=clf.predict(X_test)"
   ]
  },
  {
   "cell_type": "code",
   "execution_count": 20,
   "id": "d8986ca0",
   "metadata": {},
   "outputs": [
    {
     "name": "stdout",
     "output_type": "stream",
     "text": [
      "========== Random Forest Results ==========\n",
      "accuracy_score: 0.5647.\n",
      "Recall: 0.5647.\n",
      "Precision: 0.5180.\n",
      "F1 Score: 0.5647.\n"
     ]
    }
   ],
   "source": [
    "report(y_test, y_pred, \"Random Forest\")"
   ]
  },
  {
   "cell_type": "code",
   "execution_count": 21,
   "id": "c3530d80",
   "metadata": {},
   "outputs": [
    {
     "data": {
      "image/png": "[encoded data removed]",
      "text/plain": [
       "<Figure size 800x400 with 1 Axes>"
      ]
     },
     "metadata": {},
     "output_type": "display_data"
    }
   ],
   "source": [
    "# Plot confusion matrix\n",
    "plot_cm(y_pred,y_test,\"Random Forest\",\"cm_random_forest.pdf\")"
   ]
  },
  {
   "cell_type": "code",
   "execution_count": 22,
   "id": "2c354813",
   "metadata": {},
   "outputs": [
    {
     "name": "stdout",
     "output_type": "stream",
     "text": [
      "Model size: 287.41 MB\n"
     ]
    }
   ],
   "source": [
    "# Save model\n",
    "save_model(clf,\"random_forest\",True)"
   ]
  },
  {
   "cell_type": "markdown",
   "id": "9d825086",
   "metadata": {},
   "source": [
    "## 5.2 LightGBM"
   ]
  },
  {
   "cell_type": "code",
   "execution_count": 28,
   "id": "84d4e8cb",
   "metadata": {},
   "outputs": [
    {
     "name": "stdout",
     "output_type": "stream",
     "text": [
      "[LightGBM] [Warning] Auto-choosing row-wise multi-threading, the overhead of testing was 0.062224 seconds.\n",
      "You can set `force_row_wise=true` to remove the overhead.\n",
      "And if memory is not enough, you can set `force_col_wise=true`.\n",
      "[LightGBM] [Info] Total Bins 658\n",
      "[LightGBM] [Info] Number of data points in the train set: 5566645, number of used features: 24\n",
      "[LightGBM] [Info] Start training from score -2.054134\n",
      "[LightGBM] [Info] Start training from score -0.572384\n",
      "[LightGBM] [Info] Start training from score -1.178899\n"
     ]
    },
    {
     "name": "stderr",
     "output_type": "stream",
     "text": [
      "[Parallel(n_jobs=8)]: Using backend ThreadingBackend with 8 concurrent workers.\n",
      "[Parallel(n_jobs=8)]: Done  34 tasks      | elapsed:   58.5s\n",
      "[Parallel(n_jobs=8)]: Done 100 out of 100 | elapsed:  3.1min finished\n"
     ]
    }
   ],
   "source": [
    "# Define the model hyperparameters\n",
    "lgbm_params = {\n",
    "          \"boosting_type\": \"gbdt\",\n",
    "          \"learning_rate\": 0.1,\n",
    "          \"num_leaves\": 20,\n",
    "          \"max_bin\": 256,\n",
    "          \"verbosity\": 1,\n",
    "          \"drop_rate\": 0.1,\n",
    "          \"is_unbalance\": False,\n",
    "          \"max_drop\": 50,\n",
    "          \"min_child_samples\": 20,\n",
    "          \"min_child_weight\": 150,\n",
    "          \"min_split_gain\": 0,\n",
    "          \"subsample\": 0.9}\n",
    "# Train the model\n",
    "lbm_clf = lgbm.LGBMClassifier(**lgbm_params)\n",
    "lbm_clf.fit(X_train,y_train)\n",
    "# Evaluate the model\n",
    "y_pred = clf.predict(X_test)"
   ]
  },
  {
   "cell_type": "code",
   "execution_count": 29,
   "id": "a19126f7",
   "metadata": {},
   "outputs": [
    {
     "name": "stdout",
     "output_type": "stream",
     "text": [
      "========== LightGBM Results ==========\n",
      "accuracy_score: 0.5647.\n",
      "Recall: 0.5647.\n",
      "Precision: 0.5180.\n",
      "F1 Score: 0.5647.\n"
     ]
    }
   ],
   "source": [
    "report(y_test, y_pred, \"LightGBM\")"
   ]
  },
  {
   "cell_type": "code",
   "execution_count": 30,
   "id": "972c2371",
   "metadata": {},
   "outputs": [
    {
     "data": {
      "image/png": "[encoded data removed]",
      "text/plain": [
       "<Figure size 800x400 with 1 Axes>"
      ]
     },
     "metadata": {},
     "output_type": "display_data"
    }
   ],
   "source": [
    "plot_cm(y_pred, y_test, \"LightGBM\", 'cm_LightGBM.pdf')"
   ]
  },
  {
   "cell_type": "code",
   "execution_count": 31,
   "id": "2c879ade",
   "metadata": {},
   "outputs": [
    {
     "name": "stdout",
     "output_type": "stream",
     "text": [
      "Model size: 0.68 MB\n"
     ]
    }
   ],
   "source": [
    "# Save the model\n",
    "save_model(lbm_clf, \"lightgbm\")"
   ]
  },
  {
   "cell_type": "markdown",
   "id": "727f7a44",
   "metadata": {},
   "source": [
    "## 5.3 XGBBoost"
   ]
  },
  {
   "cell_type": "code",
   "execution_count": 23,
   "id": "261154af",
   "metadata": {},
   "outputs": [],
   "source": [
    "# Before training the model, we need to remove some special characters from the columns name\n",
    "regex = re.compile(r\"\\[|\\]|<\", re.IGNORECASE)\n",
    "X_train.columns = [regex.sub(\"_\", col) if any(x in str(col) for x in set(('[', ']', '<'))) else col for col in X_train.columns.values]"
   ]
  },
  {
   "cell_type": "code",
   "execution_count": 24,
   "id": "9409f508",
   "metadata": {},
   "outputs": [
    {
     "name": "stderr",
     "output_type": "stream",
     "text": [
      "c:\\users\\rihab\\appdata\\local\\programs\\python\\python39\\lib\\site-packages\\xgboost\\sklearn.py:1421: UserWarning: `use_label_encoder` is deprecated in 1.7.0.\n",
      "  warnings.warn(\"`use_label_encoder` is deprecated in 1.7.0.\")\n"
     ]
    }
   ],
   "source": [
    "# Define the model hyperparameters\n",
    "params = {\n",
    "            'objective':'multi:softmax',\n",
    "            'max_depth': 10,\n",
    "            'alpha': 10,\n",
    "            'learning_rate': 0.1,\n",
    "            'n_estimators':100,\n",
    "            'use_label_encoder':False\n",
    "        }\n",
    "\n",
    "# instantiate the classifier \n",
    "xgb_clf = XGBClassifier(**params)\n",
    "\n",
    "# fit the classifier to the training data\n",
    "xgb_clf.fit(X_train, y_train)\n",
    "\n",
    "# test the models performace\n",
    "y_pred = xgb_clf.predict(X_test)"
   ]
  },
  {
   "cell_type": "code",
   "execution_count": 25,
   "id": "2202d022",
   "metadata": {},
   "outputs": [
    {
     "name": "stdout",
     "output_type": "stream",
     "text": [
      "========== XGBBoost Results ==========\n",
      "accuracy_score: 0.5771.\n",
      "Recall: 0.5771.\n",
      "Precision: 0.5439.\n",
      "F1 Score: 0.5771.\n"
     ]
    }
   ],
   "source": [
    "report(y_test, y_pred, \"XGBBoost\")"
   ]
  },
  {
   "cell_type": "code",
   "execution_count": 26,
   "id": "0310cb20",
   "metadata": {},
   "outputs": [
    {
     "data": {
      "image/png": "[encoded data removed]",
      "text/plain": [
       "<Figure size 800x400 with 1 Axes>"
      ]
     },
     "metadata": {},
     "output_type": "display_data"
    }
   ],
   "source": [
    "plot_cm(y_pred, y_test, \"XGBoost\", 'cm_XGBoost.pdf')"
   ]
  },
  {
   "cell_type": "code",
   "execution_count": 27,
   "id": "42b64411",
   "metadata": {},
   "outputs": [
    {
     "name": "stdout",
     "output_type": "stream",
     "text": [
      "Model size: 12.43 MB\n"
     ]
    }
   ],
   "source": [
    "# Save the model\n",
    "save_model(xgb_clf, \"XGBoost\")"
   ]
  },
  {
   "cell_type": "markdown",
   "id": "00cede00",
   "metadata": {},
   "source": [
    "## 5.4 MLPClassifier"
   ]
  },
  {
   "cell_type": "code",
   "execution_count": 32,
   "id": "45f13075",
   "metadata": {},
   "outputs": [
    {
     "name": "stdout",
     "output_type": "stream",
     "text": [
      "Iteration 1, loss = 1.27097226\n",
      "Iteration 2, loss = 1.07930920\n",
      "Iteration 3, loss = 1.00909413\n",
      "Iteration 4, loss = 0.96275064\n",
      "Iteration 5, loss = 0.93139520\n",
      "Iteration 6, loss = 0.90715123\n",
      "Iteration 7, loss = 0.90502995\n",
      "Iteration 8, loss = 0.90404788\n",
      "Iteration 9, loss = 0.90339922\n",
      "Iteration 10, loss = 0.90308077\n",
      "Iteration 11, loss = 0.90290380\n",
      "Iteration 12, loss = 0.90285110\n",
      "Iteration 13, loss = 0.90274996\n",
      "Iteration 14, loss = 0.90267856\n",
      "Iteration 15, loss = 0.90263432\n",
      "Iteration 16, loss = 0.90265093\n",
      "Iteration 17, loss = 0.90258458\n",
      "Iteration 18, loss = 0.90252891\n",
      "Iteration 19, loss = 0.90250477\n",
      "Iteration 20, loss = 0.90252233\n",
      "Iteration 21, loss = 0.90246014\n",
      "Iteration 22, loss = 0.90249567\n",
      "Iteration 23, loss = 0.90239613\n",
      "Iteration 24, loss = 0.90248628\n",
      "Training loss did not improve more than tol=0.000100 for 10 consecutive epochs. Stopping.\n"
     ]
    }
   ],
   "source": [
    "nn_model = MLPClassifier(solver='adam', \n",
    "                         alpha=1e-5,\n",
    "                         hidden_layer_sizes=(100,), \n",
    "                         random_state=1,\n",
    "                         max_iter=1000,\n",
    "                         verbose=True\n",
    "                        )\n",
    "\n",
    "# Model Training\n",
    "nn_model.fit(X=X_train,\n",
    "             y=y_train)\n",
    "\n",
    "# Prediction\n",
    "y_pred = nn_model.predict(X_test) "
   ]
  },
  {
   "cell_type": "code",
   "execution_count": 33,
   "id": "d1216fab",
   "metadata": {},
   "outputs": [
    {
     "name": "stderr",
     "output_type": "stream",
     "text": [
      "c:\\users\\rihab\\appdata\\local\\programs\\python\\python39\\lib\\site-packages\\sklearn\\metrics\\_classification.py:1334: UndefinedMetricWarning: Precision is ill-defined and being set to 0.0 in labels with no predicted samples. Use `zero_division` parameter to control this behavior.\n",
      "  _warn_prf(average, modifier, msg_start, len(result))\n"
     ]
    },
    {
     "name": "stdout",
     "output_type": "stream",
     "text": [
      "========== MLPClassifier Results ==========\n",
      "accuracy_score: 0.5648.\n",
      "Recall: 0.5648.\n",
      "Precision: 0.5039.\n",
      "F1 Score: 0.5648.\n"
     ]
    }
   ],
   "source": [
    "report(y_test, y_pred, \"MLPClassifier\")"
   ]
  },
  {
   "cell_type": "code",
   "execution_count": 34,
   "id": "db9417b1",
   "metadata": {},
   "outputs": [
    {
     "data": {
      "image/png": "[encoded data removed]",
      "text/plain": [
       "<Figure size 800x400 with 1 Axes>"
      ]
     },
     "metadata": {},
     "output_type": "display_data"
    }
   ],
   "source": [
    "plot_cm(y_pred, y_test, \"MLPClassifier\", 'cm_MLPClassifie.pdf')"
   ]
  },
  {
   "cell_type": "code",
   "execution_count": 35,
   "id": "b9e14806",
   "metadata": {},
   "outputs": [
    {
     "name": "stdout",
     "output_type": "stream",
     "text": [
      "Model size: 0.07 MB\n"
     ]
    }
   ],
   "source": [
    "# Save the model\n",
    "save_model(nn_model, \"MLPClassifier\")"
   ]
  },
  {
   "cell_type": "markdown",
   "id": "58708482",
   "metadata": {},
   "source": [
    "# 6. Testing"
   ]
  },
  {
   "cell_type": "code",
   "execution_count": 36,
   "id": "b3e8c48a",
   "metadata": {},
   "outputs": [],
   "source": [
    "model = joblib.load(r\".\\xgboost.joblib\")"
   ]
  },
  {
   "cell_type": "code",
   "execution_count": 37,
   "id": "8343309a",
   "metadata": {},
   "outputs": [],
   "source": [
    "def boro (boro):\n",
    "    if(boro == \"BROOKLYN\"):\n",
    "        return 5\n",
    "    if(boro == \"STATEN ISLAND\"):\n",
    "        return 4\n",
    "    if(boro == \"BRONX\"):\n",
    "        return 3\n",
    "    if (boro == \"QUEENS\"):\n",
    "        return 2\n",
    "    if (boro == \"MANHATTAN\"):\n",
    "        return 1\n",
    "    else :\n",
    "        return 0"
   ]
  },
  {
   "cell_type": "code",
   "execution_count": 38,
   "id": "0846f853",
   "metadata": {},
   "outputs": [],
   "source": [
    "def race(r):\n",
    "    if(r == \"WHITE\"):\n",
    "        return 7\n",
    "    if(r == \"WHITE HISPANIC\"):\n",
    "        return 6\n",
    "    if(r == \"BLACK\"):\n",
    "        return 5\n",
    "    if(r == \"ASIAN / PACIFIC ISLANDER\"):\n",
    "        return 4\n",
    "    if(r == \"BLACK HISPANIC\"):\n",
    "        return 3\n",
    "    if(r == \"AMERICAN INDIAN/ALASKAN NATIVE\"):\n",
    "        return 2\n",
    "    if(r == \"OTHER\"):\n",
    "        return 1\n",
    "    else :\n",
    "        return 0"
   ]
  },
  {
   "cell_type": "code",
   "execution_count": 39,
   "id": "d1e252e9",
   "metadata": {},
   "outputs": [],
   "source": [
    "def sex(s):\n",
    "    if(s == \"F\"):\n",
    "        return 4\n",
    "    if(s == \"M\"):\n",
    "        return 3\n",
    "    if(s == \"D\"):\n",
    "        return 2\n",
    "    if(s == \"E\"):\n",
    "        return 1\n",
    "    else : \n",
    "        return 0"
   ]
  },
  {
   "cell_type": "code",
   "execution_count": 40,
   "id": "6925fe0d",
   "metadata": {},
   "outputs": [],
   "source": [
    "import pandas as pd\n",
    "def week_day(month, day, year):\n",
    "    date=str(month)+\"/\"+str(day)+\"/\"+str(year)\n",
    "    d = pd.Timestamp(date)\n",
    "    day=d.day_name()\n",
    "    return(day)"
   ]
  },
  {
   "cell_type": "code",
   "execution_count": 42,
   "id": "335e4e3f",
   "metadata": {},
   "outputs": [],
   "source": [
    "def create_df(hour,month,day,year,latitude,longitude,place,vic_age,vic_race,vic_sex):\n",
    "    hour = int(hour) if int(hour) < 24 else 0\n",
    "    api_data = None\n",
    "    \"\"\"try:\n",
    "      api_data = requests.get(f'{api_endpoint}{longitude},{latitude}&distance=1000&token={api_token}').json()['address']\n",
    "      pct, b = int(api_data[\"policePrecinct\"]),api_data[\"Borough\"]\n",
    "      boro = boro.upper()\n",
    "    except Exception as e:\n",
    "       print(e)\"\"\"\n",
    "    year = int(year)\n",
    "    month = int(month)\n",
    "    day = int(day)\n",
    "    #dat = datetime(year=year, month=month, day=day)\n",
    "    #weekday = dat.weekday() #Monday is 0 and Sunday is 6\n",
    "\n",
    "    in_park = 1 if place == \"In park\" else 0\n",
    "    in_public = 1 if place == \"In public housing\" else 0\n",
    "    in_station = 1 if place == \"In station\" else 0\n",
    "    vic_race = race(vic_race)\n",
    "    vic_sex= sex(vic_sex)\n",
    "    weekday= (week_day(month, day, year)).upper()\n",
    "    \n",
    "\n",
    "    columns = np.array(['IN_PARK', 'IN_PUBLIC_HOUSING', 'Latitude', 'Longitude', 'IN_STATION', \n",
    "                        'VIC_RACE', 'VIC_SEX', 'year', 'month', 'day', 'hour', 'VIC_AGE_GROUP_18-24', 'VIC_AGE_GROUP_25-44',\n",
    "                        'VIC_AGE_GROUP_45-64', 'VIC_AGE_GROUP_65+', 'VIC_AGE_GROUP_-18', 'VIC_AGE_GROUP_UNKNOWN',\n",
    "                        'weekday_Friday', 'weekday_Monday', 'weekday_Saturday', 'weekday_Sunday', 'weekday_Thursday',\n",
    "                        'weekday_Tuesday', 'weekday_Wednesday'])\n",
    "    \n",
    "    data = [[in_park,\n",
    "             in_public,\n",
    "             latitude,\n",
    "             longitude,\n",
    "             in_station,\n",
    "             vic_race,\n",
    "             vic_sex,\n",
    "             year, month, day,hour,\n",
    "             1 if vic_age in range(18,25) else 0, \n",
    "             1 if vic_age in range(25,45) else 0, \n",
    "             1 if vic_age in range(45,65) else 0, \n",
    "             1 if vic_age>=65 else 0,\n",
    "             1 if vic_age < 18 else 0,\n",
    "             0,\n",
    "             1 if weekday == \"FRIDAY\" else 0,\n",
    "             1 if weekday == \"MONDAY\" else 0,\n",
    "             1 if weekday == \"SATURDAY\" else 0,\n",
    "             1 if weekday == \"SUNDAY\" else 0,\n",
    "             1 if weekday == \"THURSDAY\" else 0,\n",
    "             1 if weekday == \"TUESDAY\" else 0,\n",
    "             1 if weekday == \"WEDNESDAY\" else 0,\n",
    "             \n",
    "       ]]\n",
    "\n",
    "    df = pd.DataFrame(data,columns=columns)\n",
    "    return df.values"
   ]
  },
  {
   "cell_type": "code",
   "execution_count": 43,
   "id": "c2cd1e1d",
   "metadata": {},
   "outputs": [],
   "source": [
    "#CRIME_CLASS\tIN_PARK\tIN_PUBLIC_HOUSING\tLatitude\tLongitude\tIN_STATION\tVIC_AGE_GROUP\tVIC_RACE\tVIC_SEX\tyear\tmonth\tday\thour\tweekday\n",
    "#2\t            0\t       0\t           40.636991\t-74.134093\t    0        \t45-64\t       6         \t4\t2016\t 10    \t12  \t7\tWednesday\n",
    "#1              0\t       0\t           40.763992\t-73.828426\t    0\t        25-44\t       5\t        3\t2017\t 5\t    20\t    4\tSaturday"
   ]
  },
  {
   "cell_type": "code",
   "execution_count": 48,
   "id": "124ef336",
   "metadata": {},
   "outputs": [
    {
     "data": {
      "text/plain": [
       "array([[ 0.0000000e+00,  0.0000000e+00,  4.0763992e+01, -7.3828426e+01,\n",
       "         0.0000000e+00,  5.0000000e+00,  3.0000000e+00,  2.0170000e+03,\n",
       "         5.0000000e+00,  2.0000000e+01,  4.0000000e+00,  0.0000000e+00,\n",
       "         1.0000000e+00,  0.0000000e+00,  0.0000000e+00,  0.0000000e+00,\n",
       "         0.0000000e+00,  0.0000000e+00,  0.0000000e+00,  1.0000000e+00,\n",
       "         0.0000000e+00,  0.0000000e+00,  0.0000000e+00,  0.0000000e+00]])"
      ]
     },
     "execution_count": 48,
     "metadata": {},
     "output_type": "execute_result"
    }
   ],
   "source": [
    "#hour,month,day,year,latitude,longitude,place,vic_age,vic_race,vic_sex\n",
    "#data= create_df(7,10,12,2016,40.636991,-74.134093,'',50,\"WHITE HISPANIC\",\"F\")\n",
    "data= create_df(4,5,20,2017,40.763992,-73.828426,'',33,\"BLACK\",\"M\")\n",
    "data"
   ]
  },
  {
   "cell_type": "code",
   "execution_count": 49,
   "id": "804b126a",
   "metadata": {},
   "outputs": [],
   "source": [
    "crime_types = {0:'Violation',1:\"Misdemeanor\",2:\"Felony\"}"
   ]
  },
  {
   "cell_type": "code",
   "execution_count": 50,
   "id": "61a76322",
   "metadata": {},
   "outputs": [],
   "source": [
    "def predict(data):\n",
    "   pred = model.predict(data)[0]\n",
    "   if (pred == 0):\n",
    "      return crime_types[pred]\n",
    "   elif pred==1:\n",
    "      return crime_types[pred]\n",
    "   else:\n",
    "      return crime_types[pred]"
   ]
  },
  {
   "cell_type": "code",
   "execution_count": 51,
   "id": "7c1162bc",
   "metadata": {},
   "outputs": [
    {
     "data": {
      "text/plain": [
       "'Misdemeanor'"
      ]
     },
     "execution_count": 51,
     "metadata": {},
     "output_type": "execute_result"
    }
   ],
   "source": [
    "pred = predict(data)\n",
    "pred"
   ]
  },
  {
   "cell_type": "code",
   "execution_count": 52,
   "id": "a118efe8",
   "metadata": {},
   "outputs": [
    {
     "name": "stdout",
     "output_type": "stream",
     "text": [
      "Collecting geoplot\n",
      "  Downloading geoplot-0.5.1-py3-none-any.whl (28 kB)\n",
      "Requirement already satisfied: seaborn in c:\\users\\rihab\\appdata\\local\\programs\\python\\python39\\lib\\site-packages (from geoplot) (0.12.1)\n",
      "Collecting contextily>=1.0.0\n",
      "  Downloading contextily-1.2.0-py3-none-any.whl (16 kB)\n",
      "Requirement already satisfied: cartopy in c:\\users\\rihab\\appdata\\local\\programs\\python\\python39\\lib\\site-packages (from geoplot) (0.20.2)\n",
      "Requirement already satisfied: matplotlib>=3.1.2 in c:\\users\\rihab\\appdata\\local\\programs\\python\\python39\\lib\\site-packages (from geoplot) (3.6.0)\n",
      "Requirement already satisfied: geopandas>=0.9.0 in c:\\users\\rihab\\appdata\\local\\programs\\python\\python39\\lib\\site-packages (from geoplot) (0.12.0)\n",
      "Requirement already satisfied: pandas in c:\\users\\rihab\\appdata\\local\\programs\\python\\python39\\lib\\site-packages (from geoplot) (1.5.0)\n",
      "Collecting mapclassify>=2.1\n",
      "  Downloading mapclassify-2.4.3-py3-none-any.whl (38 kB)\n",
      "Collecting mercantile\n",
      "  Downloading mercantile-1.2.1-py3-none-any.whl (14 kB)\n",
      "Requirement already satisfied: joblib in c:\\users\\rihab\\appdata\\local\\programs\\python\\python39\\lib\\site-packages (from contextily>=1.0.0->geoplot) (1.2.0)\n",
      "Requirement already satisfied: rasterio in c:\\users\\rihab\\appdata\\local\\programs\\python\\python39\\lib\\site-packages (from contextily>=1.0.0->geoplot) (1.3.3)\n",
      "Requirement already satisfied: pillow in c:\\users\\rihab\\appdata\\local\\programs\\python\\python39\\lib\\site-packages (from contextily>=1.0.0->geoplot) (9.2.0)\n",
      "Requirement already satisfied: requests in c:\\users\\rihab\\appdata\\local\\programs\\python\\python39\\lib\\site-packages (from contextily>=1.0.0->geoplot) (2.28.1)\n",
      "Collecting xyzservices\n",
      "  Downloading xyzservices-2022.9.0-py3-none-any.whl (55 kB)\n",
      "     ---------------------------------------- 55.9/55.9 kB 2.9 MB/s eta 0:00:00\n",
      "Collecting geopy\n",
      "  Downloading geopy-2.3.0-py3-none-any.whl (119 kB)\n",
      "     -------------------------------------- 119.8/119.8 kB 1.2 MB/s eta 0:00:00\n",
      "Requirement already satisfied: packaging in c:\\users\\rihab\\appdata\\roaming\\python\\python39\\site-packages (from geopandas>=0.9.0->geoplot) (21.3)\n",
      "Requirement already satisfied: shapely<2,>=1.7 in c:\\users\\rihab\\appdata\\local\\programs\\python\\python39\\lib\\site-packages (from geopandas>=0.9.0->geoplot) (1.8.2)\n",
      "Requirement already satisfied: fiona>=1.8 in c:\\users\\rihab\\appdata\\local\\programs\\python\\python39\\lib\\site-packages (from geopandas>=0.9.0->geoplot) (1.8.22)\n",
      "Requirement already satisfied: pyproj>=2.6.1.post1 in c:\\users\\rihab\\appdata\\local\\programs\\python\\python39\\lib\\site-packages (from geopandas>=0.9.0->geoplot) (3.3.1)\n",
      "Requirement already satisfied: networkx in c:\\users\\rihab\\appdata\\local\\programs\\python\\python39\\lib\\site-packages (from mapclassify>=2.1->geoplot) (2.8.7)\n",
      "Requirement already satisfied: numpy>=1.3 in c:\\users\\rihab\\appdata\\local\\programs\\python\\python39\\lib\\site-packages (from mapclassify>=2.1->geoplot) (1.23.3)\n",
      "Requirement already satisfied: scikit-learn in c:\\users\\rihab\\appdata\\local\\programs\\python\\python39\\lib\\site-packages (from mapclassify>=2.1->geoplot) (1.1.2)\n",
      "Requirement already satisfied: scipy>=1.0 in c:\\users\\rihab\\appdata\\local\\programs\\python\\python39\\lib\\site-packages (from mapclassify>=2.1->geoplot) (1.9.2)\n",
      "Requirement already satisfied: cycler>=0.10 in c:\\users\\rihab\\appdata\\local\\programs\\python\\python39\\lib\\site-packages (from matplotlib>=3.1.2->geoplot) (0.11.0)\n",
      "Requirement already satisfied: pyparsing>=2.2.1 in c:\\users\\rihab\\appdata\\roaming\\python\\python39\\site-packages (from matplotlib>=3.1.2->geoplot) (3.0.9)\n",
      "Requirement already satisfied: python-dateutil>=2.7 in c:\\users\\rihab\\appdata\\roaming\\python\\python39\\site-packages (from matplotlib>=3.1.2->geoplot) (2.8.2)\n",
      "Requirement already satisfied: kiwisolver>=1.0.1 in c:\\users\\rihab\\appdata\\local\\programs\\python\\python39\\lib\\site-packages (from matplotlib>=3.1.2->geoplot) (1.4.4)\n",
      "Requirement already satisfied: contourpy>=1.0.1 in c:\\users\\rihab\\appdata\\local\\programs\\python\\python39\\lib\\site-packages (from matplotlib>=3.1.2->geoplot) (1.0.5)\n",
      "Requirement already satisfied: fonttools>=4.22.0 in c:\\users\\rihab\\appdata\\local\\programs\\python\\python39\\lib\\site-packages (from matplotlib>=3.1.2->geoplot) (4.37.4)\n",
      "Requirement already satisfied: pytz>=2020.1 in c:\\users\\rihab\\appdata\\local\\programs\\python\\python39\\lib\\site-packages (from pandas->geoplot) (2022.2.1)\n",
      "Requirement already satisfied: pyshp>=2.1 in c:\\users\\rihab\\appdata\\local\\programs\\python\\python39\\lib\\site-packages (from cartopy->geoplot) (2.3.1)\n",
      "Requirement already satisfied: click>=4.0 in c:\\users\\rihab\\appdata\\local\\programs\\python\\python39\\lib\\site-packages (from fiona>=1.8->geopandas>=0.9.0->geoplot) (8.1.3)\n",
      "Requirement already satisfied: six>=1.7 in c:\\users\\rihab\\appdata\\roaming\\python\\python39\\site-packages (from fiona>=1.8->geopandas>=0.9.0->geoplot) (1.16.0)\n",
      "Requirement already satisfied: attrs>=17 in c:\\users\\rihab\\appdata\\local\\programs\\python\\python39\\lib\\site-packages (from fiona>=1.8->geopandas>=0.9.0->geoplot) (22.1.0)\n",
      "Requirement already satisfied: certifi in c:\\users\\rihab\\appdata\\local\\programs\\python\\python39\\lib\\site-packages (from fiona>=1.8->geopandas>=0.9.0->geoplot) (2022.9.14)\n",
      "Requirement already satisfied: munch in c:\\users\\rihab\\appdata\\local\\programs\\python\\python39\\lib\\site-packages (from fiona>=1.8->geopandas>=0.9.0->geoplot) (2.5.0)\n",
      "Requirement already satisfied: click-plugins>=1.0 in c:\\users\\rihab\\appdata\\local\\programs\\python\\python39\\lib\\site-packages (from fiona>=1.8->geopandas>=0.9.0->geoplot) (1.1.1)\n",
      "Requirement already satisfied: setuptools in c:\\users\\rihab\\appdata\\local\\programs\\python\\python39\\lib\\site-packages (from fiona>=1.8->geopandas>=0.9.0->geoplot) (49.2.1)\n",
      "Requirement already satisfied: cligj>=0.5 in c:\\users\\rihab\\appdata\\local\\programs\\python\\python39\\lib\\site-packages (from fiona>=1.8->geopandas>=0.9.0->geoplot) (0.7.2)\n",
      "Collecting geographiclib<3,>=1.52\n",
      "  Downloading geographiclib-2.0-py3-none-any.whl (40 kB)\n",
      "     -------------------------------------- 40.3/40.3 kB 477.5 kB/s eta 0:00:00\n",
      "Requirement already satisfied: affine in c:\\users\\rihab\\appdata\\local\\programs\\python\\python39\\lib\\site-packages (from rasterio->contextily>=1.0.0->geoplot) (2.3.1)\n",
      "Requirement already satisfied: snuggs>=1.4.1 in c:\\users\\rihab\\appdata\\local\\programs\\python\\python39\\lib\\site-packages (from rasterio->contextily>=1.0.0->geoplot) (1.4.7)\n",
      "Requirement already satisfied: urllib3<1.27,>=1.21.1 in c:\\users\\rihab\\appdata\\local\\programs\\python\\python39\\lib\\site-packages (from requests->contextily>=1.0.0->geoplot) (1.26.12)\n",
      "Requirement already satisfied: charset-normalizer<3,>=2 in c:\\users\\rihab\\appdata\\local\\programs\\python\\python39\\lib\\site-packages (from requests->contextily>=1.0.0->geoplot) (2.1.1)\n",
      "Requirement already satisfied: idna<4,>=2.5 in c:\\users\\rihab\\appdata\\local\\programs\\python\\python39\\lib\\site-packages (from requests->contextily>=1.0.0->geoplot) (3.4)\n",
      "Requirement already satisfied: threadpoolctl>=2.0.0 in c:\\users\\rihab\\appdata\\local\\programs\\python\\python39\\lib\\site-packages (from scikit-learn->mapclassify>=2.1->geoplot) (3.1.0)\n",
      "Requirement already satisfied: colorama in c:\\users\\rihab\\appdata\\roaming\\python\\python39\\site-packages (from click>=4.0->fiona>=1.8->geopandas>=0.9.0->geoplot) (0.4.5)\n",
      "Installing collected packages: xyzservices, geographiclib, mercantile, geopy, mapclassify, contextily, geoplot\n",
      "Successfully installed contextily-1.2.0 geographiclib-2.0 geoplot-0.5.1 geopy-2.3.0 mapclassify-2.4.3 mercantile-1.2.1 xyzservices-2022.9.0\n",
      "Note: you may need to restart the kernel to use updated packages.\n"
     ]
    }
   ],
   "source": [
    "pip install geoplot"
   ]
  },
  {
   "cell_type": "code",
   "execution_count": 53,
   "id": "b02dec1a",
   "metadata": {},
   "outputs": [
    {
     "name": "stdout",
     "output_type": "stream",
     "text": [
      "Requirement already satisfied: geopandas in c:\\users\\rihab\\appdata\\local\\programs\\python\\python39\\lib\\site-packages (0.12.0)Note: you may need to restart the kernel to use updated packages.\n",
      "\n",
      "Requirement already satisfied: fiona>=1.8 in c:\\users\\rihab\\appdata\\local\\programs\\python\\python39\\lib\\site-packages (from geopandas) (1.8.22)\n",
      "Requirement already satisfied: shapely<2,>=1.7 in c:\\users\\rihab\\appdata\\local\\programs\\python\\python39\\lib\\site-packages (from geopandas) (1.8.2)\n",
      "Requirement already satisfied: pyproj>=2.6.1.post1 in c:\\users\\rihab\\appdata\\local\\programs\\python\\python39\\lib\\site-packages (from geopandas) (3.3.1)\n",
      "Requirement already satisfied: packaging in c:\\users\\rihab\\appdata\\roaming\\python\\python39\\site-packages (from geopandas) (21.3)\n",
      "Requirement already satisfied: pandas>=1.0.0 in c:\\users\\rihab\\appdata\\local\\programs\\python\\python39\\lib\\site-packages (from geopandas) (1.5.0)\n",
      "Requirement already satisfied: attrs>=17 in c:\\users\\rihab\\appdata\\local\\programs\\python\\python39\\lib\\site-packages (from fiona>=1.8->geopandas) (22.1.0)\n",
      "Requirement already satisfied: certifi in c:\\users\\rihab\\appdata\\local\\programs\\python\\python39\\lib\\site-packages (from fiona>=1.8->geopandas) (2022.9.14)\n",
      "Requirement already satisfied: setuptools in c:\\users\\rihab\\appdata\\local\\programs\\python\\python39\\lib\\site-packages (from fiona>=1.8->geopandas) (49.2.1)\n",
      "Requirement already satisfied: munch in c:\\users\\rihab\\appdata\\local\\programs\\python\\python39\\lib\\site-packages (from fiona>=1.8->geopandas) (2.5.0)\n",
      "Requirement already satisfied: six>=1.7 in c:\\users\\rihab\\appdata\\roaming\\python\\python39\\site-packages (from fiona>=1.8->geopandas) (1.16.0)\n",
      "Requirement already satisfied: click>=4.0 in c:\\users\\rihab\\appdata\\local\\programs\\python\\python39\\lib\\site-packages (from fiona>=1.8->geopandas) (8.1.3)\n",
      "Requirement already satisfied: cligj>=0.5 in c:\\users\\rihab\\appdata\\local\\programs\\python\\python39\\lib\\site-packages (from fiona>=1.8->geopandas) (0.7.2)\n",
      "Requirement already satisfied: click-plugins>=1.0 in c:\\users\\rihab\\appdata\\local\\programs\\python\\python39\\lib\\site-packages (from fiona>=1.8->geopandas) (1.1.1)\n",
      "Requirement already satisfied: pytz>=2020.1 in c:\\users\\rihab\\appdata\\local\\programs\\python\\python39\\lib\\site-packages (from pandas>=1.0.0->geopandas) (2022.2.1)\n",
      "Requirement already satisfied: numpy>=1.20.3 in c:\\users\\rihab\\appdata\\local\\programs\\python\\python39\\lib\\site-packages (from pandas>=1.0.0->geopandas) (1.23.3)\n",
      "Requirement already satisfied: python-dateutil>=2.8.1 in c:\\users\\rihab\\appdata\\roaming\\python\\python39\\site-packages (from pandas>=1.0.0->geopandas) (2.8.2)\n",
      "Requirement already satisfied: pyparsing!=3.0.5,>=2.0.2 in c:\\users\\rihab\\appdata\\roaming\\python\\python39\\site-packages (from packaging->geopandas) (3.0.9)\n",
      "Requirement already satisfied: colorama in c:\\users\\rihab\\appdata\\roaming\\python\\python39\\site-packages (from click>=4.0->fiona>=1.8->geopandas) (0.4.5)\n"
     ]
    }
   ],
   "source": [
    "pip install geopandas"
   ]
  },
  {
   "cell_type": "code",
   "execution_count": 54,
   "id": "14dd04a6",
   "metadata": {},
   "outputs": [],
   "source": [
    "import geoplot\n",
    "import geopandas\n",
    "boroughs = geopandas.read_file(geoplot.datasets.get_path('nyc_boroughs'))"
   ]
  },
  {
   "cell_type": "code",
   "execution_count": 55,
   "id": "7f826358",
   "metadata": {},
   "outputs": [
    {
     "data": {
      "text/html": [
       "<div>\n",
       "<style scoped>\n",
       "    .dataframe tbody tr th:only-of-type {\n",
       "        vertical-align: middle;\n",
       "    }\n",
       "\n",
       "    .dataframe tbody tr th {\n",
       "        vertical-align: top;\n",
       "    }\n",
       "\n",
       "    .dataframe thead th {\n",
       "        text-align: right;\n",
       "    }\n",
       "</style>\n",
       "<table border=\"1\" class=\"dataframe\">\n",
       "  <thead>\n",
       "    <tr style=\"text-align: right;\">\n",
       "      <th></th>\n",
       "      <th>BoroCode</th>\n",
       "      <th>BoroName</th>\n",
       "      <th>Shape_Leng</th>\n",
       "      <th>Shape_Area</th>\n",
       "      <th>geometry</th>\n",
       "    </tr>\n",
       "  </thead>\n",
       "  <tbody>\n",
       "    <tr>\n",
       "      <th>0</th>\n",
       "      <td>5</td>\n",
       "      <td>Staten Island</td>\n",
       "      <td>330385.03697</td>\n",
       "      <td>1.623853e+09</td>\n",
       "      <td>MULTIPOLYGON (((-74.05051 40.56642, -74.05047 ...</td>\n",
       "    </tr>\n",
       "    <tr>\n",
       "      <th>1</th>\n",
       "      <td>4</td>\n",
       "      <td>Queens</td>\n",
       "      <td>861038.47930</td>\n",
       "      <td>3.049947e+09</td>\n",
       "      <td>MULTIPOLYGON (((-73.83668 40.59495, -73.83678 ...</td>\n",
       "    </tr>\n",
       "    <tr>\n",
       "      <th>2</th>\n",
       "      <td>3</td>\n",
       "      <td>Brooklyn</td>\n",
       "      <td>726568.94634</td>\n",
       "      <td>1.959432e+09</td>\n",
       "      <td>MULTIPOLYGON (((-73.86706 40.58209, -73.86769 ...</td>\n",
       "    </tr>\n",
       "    <tr>\n",
       "      <th>3</th>\n",
       "      <td>1</td>\n",
       "      <td>Manhattan</td>\n",
       "      <td>358532.95642</td>\n",
       "      <td>6.364422e+08</td>\n",
       "      <td>MULTIPOLYGON (((-74.01093 40.68449, -74.01193 ...</td>\n",
       "    </tr>\n",
       "    <tr>\n",
       "      <th>4</th>\n",
       "      <td>2</td>\n",
       "      <td>Bronx</td>\n",
       "      <td>464517.89055</td>\n",
       "      <td>1.186804e+09</td>\n",
       "      <td>MULTIPOLYGON (((-73.89681 40.79581, -73.89694 ...</td>\n",
       "    </tr>\n",
       "  </tbody>\n",
       "</table>\n",
       "</div>"
      ],
      "text/plain": [
       "   BoroCode       BoroName    Shape_Leng    Shape_Area  \\\n",
       "0         5  Staten Island  330385.03697  1.623853e+09   \n",
       "1         4         Queens  861038.47930  3.049947e+09   \n",
       "2         3       Brooklyn  726568.94634  1.959432e+09   \n",
       "3         1      Manhattan  358532.95642  6.364422e+08   \n",
       "4         2          Bronx  464517.89055  1.186804e+09   \n",
       "\n",
       "                                            geometry  \n",
       "0  MULTIPOLYGON (((-74.05051 40.56642, -74.05047 ...  \n",
       "1  MULTIPOLYGON (((-73.83668 40.59495, -73.83678 ...  \n",
       "2  MULTIPOLYGON (((-73.86706 40.58209, -73.86769 ...  \n",
       "3  MULTIPOLYGON (((-74.01093 40.68449, -74.01193 ...  \n",
       "4  MULTIPOLYGON (((-73.89681 40.79581, -73.89694 ...  "
      ]
     },
     "execution_count": 55,
     "metadata": {},
     "output_type": "execute_result"
    }
   ],
   "source": [
    "boroughs"
   ]
  }
 ],
 "metadata": {
  "kernelspec": {
   "display_name": "Python 3 (ipykernel)",
   "language": "python",
   "name": "python3"
  },
  "language_info": {
   "codemirror_mode": {
    "name": "ipython",
    "version": 3
   },
   "file_extension": ".py",
   "mimetype": "text/x-python",
   "name": "python",
   "nbconvert_exporter": "python",
   "pygments_lexer": "ipython3",
   "version": "3.9.0"
  }
 },
 "nbformat": 4,
 "nbformat_minor": 5
}
